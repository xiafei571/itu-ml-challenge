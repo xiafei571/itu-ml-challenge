{
 "cells": [
  {
   "cell_type": "code",
   "execution_count": 1,
   "metadata": {},
   "outputs": [
    {
     "data": {
      "text/plain": [
       "'3.7.6 (default, Jan  8 2020, 13:42:34) \\n[Clang 4.0.1 (tags/RELEASE_401/final)]'"
      ]
     },
     "execution_count": 1,
     "metadata": {},
     "output_type": "execute_result"
    }
   ],
   "source": [
    "import sys\n",
    "sys.version"
   ]
  },
  {
   "cell_type": "code",
   "execution_count": 2,
   "metadata": {},
   "outputs": [
    {
     "data": {
      "text/plain": [
       "'0.24.2'"
      ]
     },
     "execution_count": 2,
     "metadata": {},
     "output_type": "execute_result"
    }
   ],
   "source": [
    "import pandas as pd\n",
    "pd.__version__"
   ]
  },
  {
   "cell_type": "code",
   "execution_count": 3,
   "metadata": {},
   "outputs": [
    {
     "data": {
      "text/plain": [
       "'0.23.2'"
      ]
     },
     "execution_count": 3,
     "metadata": {},
     "output_type": "execute_result"
    }
   ],
   "source": [
    "import sklearn\n",
    "sklearn.__version__"
   ]
  },
  {
   "cell_type": "code",
   "execution_count": 4,
   "metadata": {},
   "outputs": [],
   "source": [
    "import time\n",
    "import itertools\n",
    "import matplotlib.pyplot as plt\n",
    "from sklearn.feature_selection import SelectFromModel\n",
    "from sklearn.metrics import accuracy_score, confusion_matrix, classification_report\n",
    "from sklearn.model_selection import train_test_split, GridSearchCV\n",
    "from sklearn.preprocessing import StandardScaler\n",
    "from xgboost import XGBClassifier, plot_importance\n",
    "import numpy as np\n",
    "from numpy import sort\n",
    "from sklearn.tree import DecisionTreeClassifier\n",
    "from sklearn.ensemble import RandomForestClassifier\n",
    "from sklearn.neural_network import MLPClassifier\n",
    "from sklearn import svm\n",
    "from lightgbm import LGBMClassifier"
   ]
  },
  {
   "cell_type": "code",
   "execution_count": 5,
   "metadata": {},
   "outputs": [],
   "source": [
    "# dataset path\n",
    "dataset_path = './csv/diff_dataset.csv'\n",
    "testset_path = './csv/diff_testset.csv'"
   ]
  },
  {
   "cell_type": "code",
   "execution_count": 6,
   "metadata": {},
   "outputs": [],
   "source": [
    "# read dataset\n",
    "dataset = pd.read_csv(dataset_path)\n",
    "testset = pd.read_csv(testset_path)"
   ]
  },
  {
   "cell_type": "code",
   "execution_count": 7,
   "metadata": {},
   "outputs": [],
   "source": [
    "# drop unnamed column\n",
    "dataset.drop(columns=['Unnamed: 0'], inplace=True)\n",
    "testset.drop(columns=['Unnamed: 0'], inplace=True)"
   ]
  },
  {
   "cell_type": "code",
   "execution_count": 8,
   "metadata": {},
   "outputs": [],
   "source": [
    "# remove resolve state\n",
    "data_drop_index = dataset[dataset['v_type_code'] %2 == 0].index.tolist()\n",
    "dataset.drop(index=data_drop_index, axis=0, inplace=True)\n",
    "test_drop_index = testset[testset['v_type_code'] %2 == 0].index.tolist()\n",
    "testset.drop(index=test_drop_index, axis=0, inplace=True)\n",
    "\n",
    "# data_57 = dataset[dataset['v_type_code'].isin([5,7])].index.tolist()\n",
    "# dataset.drop(index=data_57, axis=0, inplace=True)\n",
    "\n",
    "# test_57 = testset[testset['v_type_code'].isin([5,7])].index.tolist()\n",
    "# testset.drop(index=test_57, axis=0, inplace=True)"
   ]
  },
  {
   "cell_type": "code",
   "execution_count": 9,
   "metadata": {},
   "outputs": [],
   "source": [
    "# Try to combine 5 and 7 into one type.\n",
    "dataset['v_type_code'] = dataset['v_type_code'].apply(lambda x: 57 if x == 5 or x == 7 else x)\n",
    "testset['v_type_code'] = testset['v_type_code'].apply(lambda x: 57 if x == 5 or x == 7 else x)"
   ]
  },
  {
   "cell_type": "code",
   "execution_count": 10,
   "metadata": {},
   "outputs": [
    {
     "name": "stdout",
     "output_type": "stream",
     "text": [
      "dataset:\n",
      "(930, 997)\n",
      "testset:\n",
      "(840, 997)\n"
     ]
    }
   ],
   "source": [
    "print('dataset:')\n",
    "print(dataset.shape)\n",
    "print('testset:')\n",
    "print(testset.shape)\n",
    "\n",
    "column = dataset.columns"
   ]
  },
  {
   "cell_type": "code",
   "execution_count": 11,
   "metadata": {},
   "outputs": [
    {
     "name": "stdout",
     "output_type": "stream",
     "text": [
      "(1770, 996) (1770,)\n",
      "(930, 996) (930,)\n",
      "(840, 996) (840,)\n"
     ]
    }
   ],
   "source": [
    "X_train = dataset[column[:-1]]\n",
    "X_test = testset[column[:-1]]\n",
    "y_train = dataset[column[-1]]\n",
    "y_test = testset[column[-1]]\n",
    "\n",
    "X = pd.concat([X_train, X_test], axis=0, ignore_index=True, sort=False)\n",
    "Y = pd.concat([y_train, y_test], axis=0, ignore_index=True, sort=False)\n",
    "#     X_train, X_test, y_train, y_test = train_test_split(X, Y, test_size=0.2)\n",
    "print(X.shape, Y.shape)\n",
    "print(X_train.shape, y_train.shape)\n",
    "print(X_test.shape, y_test.shape)"
   ]
  },
  {
   "cell_type": "code",
   "execution_count": 12,
   "metadata": {},
   "outputs": [],
   "source": [
    "import re\n",
    "X_train = X_train.rename(columns = lambda x:re.sub('[^A-Za-z0-9_]+', '_', x))\n",
    "X_test = X_test.rename(columns = lambda x:re.sub('[^A-Za-z0-9_]+', '_', x))\n",
    "\n",
    "X = X.rename(columns = lambda x:re.sub('[^A-Za-z0-9_]+', '_', x))"
   ]
  },
  {
   "cell_type": "code",
   "execution_count": 13,
   "metadata": {},
   "outputs": [],
   "source": [
    "ss = StandardScaler()\n",
    "std_X_train = ss.fit_transform(X_train)\n",
    "std_X_test = ss.fit_transform(X_test)"
   ]
  },
  {
   "cell_type": "code",
   "execution_count": 14,
   "metadata": {},
   "outputs": [],
   "source": [
    "# XGBoost\n",
    "def xgboost(X_train, y_train, X_test, y_test, show=False, plt_show=True):\n",
    "    last_time = time.time()\n",
    "    xgb = XGBClassifier(n_estimators=100, objective='multi:softprob', num_class=5, random_state=0)\n",
    "    xgb.fit(X_train, y_train)\n",
    "    middle_time = time.time()\n",
    "    y_pred = xgb.predict(X_test)\n",
    "    current_time = time.time()\n",
    "    accuracy_score(y_test, y_pred)\n",
    "\n",
    "#     print(\"train time： {}\".format(middle_time - last_time))\n",
    "#     print(\"test time： {}\".format(current_time - middle_time))\n",
    "    if show:\n",
    "        cm = confusion_matrix(y_test, y_pred)\n",
    "        report=classification_report(y_test, y_pred, output_dict=True)\n",
    "        report['train_time']=middle_time - last_time\n",
    "        report['test_time']=current_time - middle_time\n",
    "        return report"
   ]
  },
  {
   "cell_type": "code",
   "execution_count": 15,
   "metadata": {},
   "outputs": [],
   "source": [
    "def plot_confusion_matrix(cm, classes,\n",
    "                          normalize=False,\n",
    "                          title='Confusion matrix',\n",
    "                          cmap=plt.cm.Blues):\n",
    "    if normalize:\n",
    "        cm = cm.astype('float') / cm.sum(axis=1)[:, np.newaxis]\n",
    "        print(\"Normalized confusion matrix\")\n",
    "    else:\n",
    "        print('Confusion matrix, without normalization')\n",
    "\n",
    "    print(cm)\n",
    "\n",
    "    plt.imshow(cm, interpolation='nearest', cmap=cmap)\n",
    "    plt.title(title)\n",
    "    plt.colorbar()\n",
    "    tick_marks = np.arange(len(classes))\n",
    "    plt.xticks(tick_marks, classes, rotation=45)\n",
    "    plt.yticks(tick_marks, classes)\n",
    "\n",
    "    fmt = '.4f' if normalize else 'd'\n",
    "    thresh = cm.max() / 2.\n",
    "    for i, j in itertools.product(range(cm.shape[0]), range(cm.shape[1])):\n",
    "        plt.text(j, i, format(cm[i, j], fmt),\n",
    "                 horizontalalignment=\"center\",\n",
    "                 color=\"red\")\n",
    "        # color=\"red\" if cm[i, j] > thresh else \"black\")\n",
    "    # plt.set_tight_layout(True)\n",
    "    plt.tight_layout()\n",
    "    plt.ylabel('True label')\n",
    "    plt.xlabel('Predicted label')"
   ]
  },
  {
   "cell_type": "code",
   "execution_count": 16,
   "metadata": {},
   "outputs": [],
   "source": [
    "def xgboost_show_cm(X_train, y_train, X_test, y_test):\n",
    "    last_time = time.time()\n",
    "    xgb = XGBClassifier(num_class=5, random_state=0)\n",
    "    xgb.fit(X_train, y_train)\n",
    "    middle_time = time.time()\n",
    "\n",
    "    y_pred = xgb.predict(X_test)\n",
    "\n",
    "    current_time = time.time()\n",
    "\n",
    "    print(\"XGBOOST Accuracy: %.2f\" % accuracy_score(y_test, y_pred))\n",
    "    print(\"train time： {}\".format(middle_time - last_time))\n",
    "    print(\"test time： {}\".format(current_time - middle_time))\n",
    "    cm = confusion_matrix(y_test, y_pred)\n",
    "    print('confusion matrix xgb:')\n",
    "    print(cm)\n",
    "    print('classification report xgb:')\n",
    "    print(classification_report(y_test, y_pred))"
   ]
  },
  {
   "cell_type": "code",
   "execution_count": 17,
   "metadata": {
    "scrolled": true
   },
   "outputs": [
    {
     "name": "stdout",
     "output_type": "stream",
     "text": [
      "XGBOOST Accuracy: 0.93\n",
      "train time： 5.950835943222046\n",
      "test time： 0.048280954360961914\n",
      "confusion matrix xgb:\n",
      "[[ 62   0   0   2   0]\n",
      " [  0  72   0   0   0]\n",
      " [  0   0 156   0   0]\n",
      " [  0   1   0 129  50]\n",
      " [  0   0   0   2 366]]\n",
      "classification report xgb:\n",
      "              precision    recall  f1-score   support\n",
      "\n",
      "           1       1.00      0.97      0.98        64\n",
      "           3       0.99      1.00      0.99        72\n",
      "           9       1.00      1.00      1.00       156\n",
      "          11       0.97      0.72      0.82       180\n",
      "          57       0.88      0.99      0.93       368\n",
      "\n",
      "    accuracy                           0.93       840\n",
      "   macro avg       0.97      0.94      0.95       840\n",
      "weighted avg       0.94      0.93      0.93       840\n",
      "\n"
     ]
    }
   ],
   "source": [
    "xgboost_show_cm(X_train, y_train, X_test, y_test)"
   ]
  },
  {
   "cell_type": "code",
   "execution_count": 22,
   "metadata": {},
   "outputs": [],
   "source": [
    "model = XGBClassifier(importance_type='gain',n_estimators=100)\n",
    "model.fit(X, Y)\n",
    "selection = SelectFromModel(model, threshold=0.0035, prefit=True)\n",
    "select_X_train = selection.transform(X_train)\n",
    "select_X_test = selection.transform(X_test)"
   ]
  },
  {
   "cell_type": "code",
   "execution_count": 23,
   "metadata": {},
   "outputs": [
    {
     "name": "stdout",
     "output_type": "stream",
     "text": [
      "XGBOOST Accuracy: 0.94\n",
      "train time： 0.3451061248779297\n",
      "test time： 0.0037958621978759766\n",
      "confusion matrix xgb:\n",
      "[[ 64   0   0   0   0]\n",
      " [  0  72   0   0   0]\n",
      " [  0   0 156   0   0]\n",
      " [  0   1   0 127  52]\n",
      " [  0   0   0   0 368]]\n",
      "classification report xgb:\n",
      "              precision    recall  f1-score   support\n",
      "\n",
      "           1       1.00      1.00      1.00        64\n",
      "           3       0.99      1.00      0.99        72\n",
      "           9       1.00      1.00      1.00       156\n",
      "          11       1.00      0.71      0.83       180\n",
      "          57       0.88      1.00      0.93       368\n",
      "\n",
      "    accuracy                           0.94       840\n",
      "   macro avg       0.97      0.94      0.95       840\n",
      "weighted avg       0.94      0.94      0.93       840\n",
      "\n"
     ]
    }
   ],
   "source": [
    "xgboost_show_cm(select_X_train, y_train, select_X_test, y_test)"
   ]
  },
  {
   "cell_type": "markdown",
   "metadata": {},
   "source": [
    "# RF PCA "
   ]
  },
  {
   "cell_type": "code",
   "execution_count": null,
   "metadata": {},
   "outputs": [],
   "source": [
    "from sklearn.decomposition import PCA"
   ]
  },
  {
   "cell_type": "code",
   "execution_count": 43,
   "metadata": {},
   "outputs": [],
   "source": [
    "pca=PCA(n_components=30)     #加载PCA算法，设置降维后主成分数目为自动\n",
    "reduced_X=pca.fit_transform(X)#对样本进行降维\n"
   ]
  },
  {
   "cell_type": "code",
   "execution_count": 44,
   "metadata": {},
   "outputs": [],
   "source": [
    "# random forest\n",
    "def random_forest(X_train, y_train, X_test, y_test, show=False):\n",
    "    last_time = time.time()\n",
    "    rf = RandomForestClassifier(n_estimators=100, max_depth=None, min_samples_split=2, random_state=0)\n",
    "\n",
    "    rf.fit(X_train, y_train)\n",
    "    middle_time = time.time()\n",
    "\n",
    "    y_pred = rf.predict(X_test)\n",
    "\n",
    "    current_time = time.time()\n",
    "\n",
    "    print(\"Accuracy: %.2f\"% accuracy_score(y_test, y_pred))\n",
    "\n",
    "    print(\"训练耗时： {}\".format(middle_time - last_time))\n",
    "    print(\"测试耗时： {}\".format(current_time - middle_time))\n",
    "    if show:\n",
    "        cm = confusion_matrix(y_test, y_pred)\n",
    "        print('confusion matrix rf:')\n",
    "        print(cm)\n",
    "        print('classification report rf:')\n",
    "        print(classification_report(y_test, y_pred))\n",
    "\n",
    "        plot_confusion_matrix(cm, classes=['1', '3', '9', '11'],\n",
    "                              normalize=True, title='Normalized confusion matrix')\n",
    "\n",
    "        plt.show()"
   ]
  },
  {
   "cell_type": "code",
   "execution_count": 45,
   "metadata": {},
   "outputs": [
    {
     "name": "stdout",
     "output_type": "stream",
     "text": [
      "Accuracy: 0.79\n",
      "训练耗时： 0.16594672203063965\n",
      "测试耗时： 0.012247085571289062\n",
      "confusion matrix rf:\n",
      "[[ 63   0   0   2]\n",
      " [  8  78  35   0]\n",
      " [  1  18 158   2]\n",
      " [  1   4  40 110]]\n",
      "classification report rf:\n",
      "              precision    recall  f1-score   support\n",
      "\n",
      "           1       0.86      0.97      0.91        65\n",
      "           3       0.78      0.64      0.71       121\n",
      "           9       0.68      0.88      0.77       179\n",
      "          11       0.96      0.71      0.82       155\n",
      "\n",
      "    accuracy                           0.79       520\n",
      "   macro avg       0.82      0.80      0.80       520\n",
      "weighted avg       0.81      0.79      0.79       520\n",
      "\n",
      "Normalized confusion matrix\n",
      "[[0.96923077 0.         0.         0.03076923]\n",
      " [0.0661157  0.6446281  0.2892562  0.        ]\n",
      " [0.00558659 0.10055866 0.88268156 0.01117318]\n",
      " [0.00645161 0.02580645 0.25806452 0.70967742]]\n"
     ]
    },
    {
     "data": {
      "image/png": "[encoded data removed]",
      "text/plain": [
       "<Figure size 432x288 with 2 Axes>"
      ]
     },
     "metadata": {
      "needs_background": "light"
     },
     "output_type": "display_data"
    }
   ],
   "source": [
    "reduced_X_train, reduced_X_test, reduced_y_train, reduced_y_test = train_test_split(reduced_X, Y, test_size=0.7)\n",
    "random_forest(reduced_X_train, reduced_y_train, reduced_X_test, reduced_y_test, show=True)"
   ]
  },
  {
   "cell_type": "code",
   "execution_count": 24,
   "metadata": {},
   "outputs": [],
   "source": [
    "from lightgbm import LGBMClassifier\n",
    "\n",
    "def gbm_show_cm(X_train, y_train, X_test, y_test):\n",
    "    last_time = time.time()\n",
    "    \n",
    "    gbm = LGBMClassifier(learning_rate=0.1, n_estimators=40)\n",
    "    gbm.fit(X_train, y_train)\n",
    "\n",
    "    middle_time = time.time()\n",
    "\n",
    "    y_pred = gbm.predict(X_test)\n",
    "\n",
    "    current_time = time.time()\n",
    "\n",
    "    print(\"GBM Accuracy: %.2f\" % accuracy_score(y_test, y_pred))\n",
    "    print(\"train time： {}\".format(middle_time - last_time))\n",
    "    print(\"test time： {}\".format(current_time - middle_time))\n",
    "    cm = confusion_matrix(y_test, y_pred)\n",
    "    print('confusion matrix gbm:')\n",
    "    print(cm)\n",
    "    print('classification report gbm:')\n",
    "    print(classification_report(y_test, y_pred))\n",
    "    # 特征重要度\n",
    "#     print('Feature importances:', list(gbm.feature_importances_))\n",
    "    \n",
    "    # 网格搜索，参数优化 learning_rate=0.1, n_estimators=40\n",
    "#     estimator = LGBMClassifier(num_leaves=31)\n",
    "#     param_grid = {\n",
    "#         'learning_rate': [0.01, 0.1, 1],\n",
    "#         'n_estimators': [20, 40]\n",
    "#     }\n",
    "#     gbm = GridSearchCV(estimator, param_grid)\n",
    "#     gbm.fit(X_train, y_train)\n",
    "#     print('Best parameters found by grid search are:', gbm.best_params_)\n",
    "    \n"
   ]
  },
  {
   "cell_type": "code",
   "execution_count": 25,
   "metadata": {},
   "outputs": [
    {
     "name": "stdout",
     "output_type": "stream",
     "text": [
      "GBM Accuracy: 0.93\n",
      "train time： 2.3554527759552\n",
      "test time： 0.16838812828063965\n",
      "confusion matrix gbm:\n",
      "[[ 64   0   0   0   0]\n",
      " [  0  70   0   0   2]\n",
      " [  0   0 156   0   0]\n",
      " [  0   1   0 126  53]\n",
      " [  0   0   0   0 368]]\n",
      "classification report gbm:\n",
      "              precision    recall  f1-score   support\n",
      "\n",
      "           1       1.00      1.00      1.00        64\n",
      "           3       0.99      0.97      0.98        72\n",
      "           9       1.00      1.00      1.00       156\n",
      "          11       1.00      0.70      0.82       180\n",
      "          57       0.87      1.00      0.93       368\n",
      "\n",
      "    accuracy                           0.93       840\n",
      "   macro avg       0.97      0.93      0.95       840\n",
      "weighted avg       0.94      0.93      0.93       840\n",
      "\n"
     ]
    }
   ],
   "source": [
    "gbm_show_cm(X_train, y_train, X_test, y_test)"
   ]
  },
  {
   "cell_type": "code",
   "execution_count": 26,
   "metadata": {},
   "outputs": [],
   "source": [
    "from sklearn import model_selection\n",
    "from sklearn.linear_model import LogisticRegression\n",
    "from mlxtend.classifier import StackingClassifier\n",
    "import numpy as np\n",
    "\n",
    "xgb = XGBClassifier()\n",
    "lgbm = LGBMClassifier()\n",
    "rf = RandomForestClassifier()\n",
    "\n",
    "\n",
    "lr = LogisticRegression()\n",
    "sclf = StackingClassifier(classifiers=[xgb, lgbm, rf], \n",
    "                          use_probas=True,\n",
    "                          average_probas=False,\n",
    "                          meta_classifier=lr)"
   ]
  },
  {
   "cell_type": "code",
   "execution_count": 34,
   "metadata": {},
   "outputs": [
    {
     "name": "stdout",
     "output_type": "stream",
     "text": [
      "[XGB] Accuracy: 0.936\n",
      "[LGB] Accuracy: 0.937\n",
      "[RF] Accuracy: 0.913\n",
      "[StackingClassifier] Accuracy: 0.938\n"
     ]
    }
   ],
   "source": [
    "for clf, label in zip([xgb, lgbm, rf, sclf], \n",
    "                      ['XGB', \n",
    "                       'LGB', \n",
    "                       'RF',\n",
    "                       'StackingClassifier']):\n",
    "    \n",
    "    clf.fit(X_train, y_train)\n",
    "    y_pred = clf.predict(X_test)\n",
    "    print(\"[%s] Accuracy: %.3f\" % (label, accuracy_score(y_test, y_pred)))"
   ]
  },
  {
   "cell_type": "code",
   "execution_count": 28,
   "metadata": {},
   "outputs": [],
   "source": [
    "im=pd.DataFrame({'importance':model.feature_importances_,'var':X.columns})\n",
    "im=im.sort_values(by='importance',ascending=False)"
   ]
  },
  {
   "cell_type": "code",
   "execution_count": 29,
   "metadata": {},
   "outputs": [],
   "source": [
    "all_columns = X_train.columns\n",
    "xgb_columns = im[0:57]['var'].values"
   ]
  },
  {
   "cell_type": "code",
   "execution_count": 30,
   "metadata": {},
   "outputs": [],
   "source": [
    "from mlxtend.feature_selection import ColumnSelector\n",
    "from sklearn.pipeline import make_pipeline\n",
    "\n",
    "xgb = make_pipeline(ColumnSelector(xgb_columns),\n",
    "                      XGBClassifier())\n",
    "\n",
    "sclf = StackingClassifier(classifiers=[xgb, lgbm, rf], \n",
    "                          use_probas=True,\n",
    "                          average_probas=False,\n",
    "                          meta_classifier=lr)\n"
   ]
  },
  {
   "cell_type": "code",
   "execution_count": 31,
   "metadata": {},
   "outputs": [
    {
     "name": "stdout",
     "output_type": "stream",
     "text": [
      "[XGB] Accuracy: 0.94\n",
      "[[ 64   0   0   0   0]\n",
      " [  0  72   0   0   0]\n",
      " [  0   0 156   0   0]\n",
      " [  0   1   0 126  53]\n",
      " [  0   0   0   0 368]]\n",
      "              precision    recall  f1-score   support\n",
      "\n",
      "           1       1.00      1.00      1.00        64\n",
      "           3       0.99      1.00      0.99        72\n",
      "           9       1.00      1.00      1.00       156\n",
      "          11       1.00      0.70      0.82       180\n",
      "          57       0.87      1.00      0.93       368\n",
      "\n",
      "    accuracy                           0.94       840\n",
      "   macro avg       0.97      0.94      0.95       840\n",
      "weighted avg       0.94      0.94      0.93       840\n",
      "\n",
      "[LGB] Accuracy: 0.94\n",
      "[[ 64   0   0   0   0]\n",
      " [  0  71   0   0   1]\n",
      " [  0   0 156   0   0]\n",
      " [  0   0   0 128  52]\n",
      " [  0   0   0   0 368]]\n",
      "              precision    recall  f1-score   support\n",
      "\n",
      "           1       1.00      1.00      1.00        64\n",
      "           3       1.00      0.99      0.99        72\n",
      "           9       1.00      1.00      1.00       156\n",
      "          11       1.00      0.71      0.83       180\n",
      "          57       0.87      1.00      0.93       368\n",
      "\n",
      "    accuracy                           0.94       840\n",
      "   macro avg       0.97      0.94      0.95       840\n",
      "weighted avg       0.94      0.94      0.93       840\n",
      "\n",
      "[RF] Accuracy: 0.92\n",
      "[[ 64   0   0   0   0]\n",
      " [  0  72   0   0   0]\n",
      " [  0   0 156   0   0]\n",
      " [  0   0   0 131  49]\n",
      " [  0   0   0  20 348]]\n",
      "              precision    recall  f1-score   support\n",
      "\n",
      "           1       1.00      1.00      1.00        64\n",
      "           3       1.00      1.00      1.00        72\n",
      "           9       1.00      1.00      1.00       156\n",
      "          11       0.87      0.73      0.79       180\n",
      "          57       0.88      0.95      0.91       368\n",
      "\n",
      "    accuracy                           0.92       840\n",
      "   macro avg       0.95      0.93      0.94       840\n",
      "weighted avg       0.92      0.92      0.92       840\n",
      "\n",
      "[StackingClassifier] Accuracy: 0.94\n",
      "[[ 64   0   0   0   0]\n",
      " [  0  72   0   0   0]\n",
      " [  0   0 156   0   0]\n",
      " [  0   0   0 128  52]\n",
      " [  0   0   0   0 368]]\n",
      "              precision    recall  f1-score   support\n",
      "\n",
      "           1       1.00      1.00      1.00        64\n",
      "           3       1.00      1.00      1.00        72\n",
      "           9       1.00      1.00      1.00       156\n",
      "          11       1.00      0.71      0.83       180\n",
      "          57       0.88      1.00      0.93       368\n",
      "\n",
      "    accuracy                           0.94       840\n",
      "   macro avg       0.98      0.94      0.95       840\n",
      "weighted avg       0.95      0.94      0.93       840\n",
      "\n"
     ]
    }
   ],
   "source": [
    "for clf, label in zip([xgb, lgbm, rf, sclf], \n",
    "                      ['XGB', \n",
    "                       'LGB', \n",
    "                       'RF',\n",
    "                       'StackingClassifier']):\n",
    "    \n",
    "    clf.fit(X_train, y_train)\n",
    "    y_pred = clf.predict(X_test)\n",
    "    print(\"[%s] Accuracy: %.2f\" % (label, accuracy_score(y_test, y_pred)))\n",
    "    print(confusion_matrix(y_test, y_pred))\n",
    "    print(classification_report(y_test, y_pred))"
   ]
  },
  {
   "cell_type": "code",
   "execution_count": 32,
   "metadata": {},
   "outputs": [],
   "source": [
    "from sklearn.model_selection import KFold, cross_val_score, train_test_split\n",
    "from sklearn.base import BaseEstimator, TransformerMixin, RegressorMixin, clone\n",
    "\n",
    "class AveragingModelsMini(BaseEstimator, RegressorMixin, TransformerMixin):\n",
    "    def __init__(self, models):\n",
    "        self.models = models\n",
    "        \n",
    "    # we define clones of the original models to fit the data in\n",
    "    def fit(self, X, y):\n",
    "        self.models_ = [clone(x) for x in self.models]\n",
    "        \n",
    "        # Train cloned base models\n",
    "        for model in self.models_:\n",
    "            model.fit(X, y)\n",
    " \n",
    "        return self\n",
    "    \n",
    "    #Now we do the predictions for cloned models and average them\n",
    "    def predict(self, X):\n",
    "        predictions = np.column_stack([\n",
    "            model.predict(X) for model in self.models_\n",
    "        ])\n",
    "        return np.mean(predictions, axis=1)  "
   ]
  },
  {
   "cell_type": "code",
   "execution_count": null,
   "metadata": {},
   "outputs": [],
   "source": []
  },
  {
   "cell_type": "code",
   "execution_count": 33,
   "metadata": {},
   "outputs": [],
   "source": [
    "averaged_models = AveragingModelsMini(models = (xgb, lgbm, rf, sclf))"
   ]
  },
  {
   "cell_type": "code",
   "execution_count": null,
   "metadata": {},
   "outputs": [],
   "source": []
  }
 ],
 "metadata": {
  "kernelspec": {
   "display_name": "Python 3",
   "language": "python",
   "name": "python3"
  },
  "language_info": {
   "codemirror_mode": {
    "name": "ipython",
    "version": 3
   },
   "file_extension": ".py",
   "mimetype": "text/x-python",
   "name": "python",
   "nbconvert_exporter": "python",
   "pygments_lexer": "ipython3",
   "version": "3.7.6"
  }
 },
 "nbformat": 4,
 "nbformat_minor": 4
}
